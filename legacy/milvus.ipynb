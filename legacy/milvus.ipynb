{
 "cells": [
  {
   "attachments": {},
   "cell_type": "markdown",
   "metadata": {},
   "source": [
    "# LiT Model"
   ]
  },
  {
   "cell_type": "code",
   "execution_count": null,
   "metadata": {},
   "outputs": [],
   "source": [
    "%pip install -q git+https://github.com/google-research/vision_transformer\n",
    "%pip install -q tensorstore"
   ]
  },
  {
   "cell_type": "code",
   "execution_count": null,
   "metadata": {},
   "outputs": [],
   "source": [
    "# Import libraries\n",
    "import os\n",
    "import jax\n",
    "import numpy as np\n",
    "import pandas as pd\n",
    "from vit_jax import models\n",
    "\n",
    "import requests\n",
    "from io import BytesIO\n",
    "from PIL import Image"
   ]
  },
  {
   "cell_type": "code",
   "execution_count": null,
   "metadata": {},
   "outputs": [],
   "source": [
    "# Initialize model (currently available models: LiT-B16B, LiT-B16B_2, LiT-L16L, LiT-L16S, LiT-L16Ti)\n",
    "model_name = 'LiT-L16Ti'\n",
    "\n",
    "lit_model = models.get_model(model_name)\n",
    "tokenizer = lit_model.get_tokenizer()\n",
    "image_preprocessing = lit_model.get_image_preprocessing()\n",
    "lit_variables = lit_model.load_variables()"
   ]
  },
  {
   "cell_type": "code",
   "execution_count": null,
   "metadata": {},
   "outputs": [],
   "source": [
    "# Function that returns the top k results from similarity search (using Pinecone's cosine similarity)\n",
    "def image_embedding(url):\n",
    "  response = requests.get(url, stream=True)\n",
    "  image = Image.open(BytesIO(response.content))\n",
    "\n",
    "  if image.mode == 'RGBA':\n",
    "      image = image.convert('RGB')\n",
    "\n",
    "  image = image.resize((500, 500))\n",
    "  image = np.array(image)\n",
    "  preprocessed_images = image_preprocessing([image])\n",
    "\n",
    "  image_features, _, _ = lit_model.apply(lit_variables, images=preprocessed_images)\n",
    "  # print(image_features.tolist()[0])\n",
    "\n",
    "  return image_features.tolist()[0]"
   ]
  },
  {
   "cell_type": "code",
   "execution_count": null,
   "metadata": {},
   "outputs": [],
   "source": [
    "def text_embeddings(texts):\n",
    "    query_tokens = tokenizer(texts)\n",
    "    _, query_features, _ = lit_model.apply(lit_variables, tokens=query_tokens)\n",
    "    # for vector in query_features:\n",
    "    #     print(vector)\n",
    "    \n",
    "    return query_features.tolist()"
   ]
  },
  {
   "attachments": {},
   "cell_type": "markdown",
   "metadata": {},
   "source": [
    "# Setup"
   ]
  },
  {
   "cell_type": "code",
   "execution_count": null,
   "metadata": {},
   "outputs": [],
   "source": [
    "%pip install -q -U pymilvus"
   ]
  },
  {
   "cell_type": "code",
   "execution_count": null,
   "metadata": {},
   "outputs": [],
   "source": [
    "from pymilvus import connections\n",
    "from pymilvus import Collection\n",
    "from pprint import pprint\n",
    "import json"
   ]
  },
  {
   "cell_type": "code",
   "execution_count": null,
   "metadata": {},
   "outputs": [],
   "source": [
    "connections.connect(\n",
    "  alias=\"default\", \n",
    "  uri='https://in01-1efb60df0cf919e.aws-us-west-2.vectordb.zillizcloud.com:19535', # Endpoint URI obtained from Zilliz Cloud\n",
    "  secure=True,\n",
    "  user='db_admin', # Username specified when you created this database\n",
    "  password='zillizDatabase!' # Password specified when you created this database\n",
    ")"
   ]
  },
  {
   "cell_type": "code",
   "execution_count": null,
   "metadata": {},
   "outputs": [],
   "source": [
    "collection = Collection(\"Product\")\n",
    "# collection.create_partition(\"eateries\")"
   ]
  },
  {
   "attachments": {},
   "cell_type": "markdown",
   "metadata": {},
   "source": [
    "# Insert Data"
   ]
  },
  {
   "cell_type": "code",
   "execution_count": null,
   "metadata": {},
   "outputs": [],
   "source": [
    "data = [\n",
    "    {\"vector\": [], \"name\": \"\"},\n",
    "    {\"vector\": [], \"name\": \"\"},\n",
    "    {\"vector\": [], \"name\": \"\"},\n",
    "    {\"vector\": [], \"name\": \"\"}\n",
    "]\n",
    "\n",
    "collection.insert(data)"
   ]
  },
  {
   "attachments": {},
   "cell_type": "markdown",
   "metadata": {},
   "source": [
    "# Query"
   ]
  },
  {
   "attachments": {},
   "cell_type": "markdown",
   "metadata": {},
   "source": [
    "# Load collection to memory before conducting vector similarity search\n",
    "collection.load()"
   ]
  },
  {
   "cell_type": "code",
   "execution_count": null,
   "metadata": {},
   "outputs": [],
   "source": [
    "def vector_search(texts): # list of text\n",
    "    vectors = text_embeddings(texts)\n",
    "    \n",
    "    results = collection.search(\n",
    "        data=vectors,\n",
    "        anns_field=\"vector\", \n",
    "        param={\"metric_type\": \"IP\", \"params\": {\"ef\": 3}, \"offset\": 0},\n",
    "        limit=3, \n",
    "        expr=None,\n",
    "        # set the names of the fields you want to retrieve from the search result.\n",
    "        output_fields=['name'],\n",
    "        consistency_level=\"Strong\"\n",
    "    )\n",
    "    print(results)\n",
    "\n",
    "    # get the value of an output field specified in the search request (vector fields are not supported yet.)\n",
    "    # for hit in results[0]:\n",
    "    #     print(hit.distance)\n",
    "    #     print(hit.entity.get('name'))"
   ]
  },
  {
   "cell_type": "code",
   "execution_count": null,
   "metadata": {},
   "outputs": [],
   "source": [
    "data = [\n",
    "    \"white table\",\n",
    "    \"hamburger\",\n",
    "]\n",
    "\n",
    "vector_search(data)"
   ]
  },
  {
   "cell_type": "code",
   "execution_count": null,
   "metadata": {},
   "outputs": [],
   "source": [
    "# Release the collection loaded in Milvus to reduce memory consumption when the search is completed.\n",
    "collection.release()"
   ]
  }
 ],
 "metadata": {
  "language_info": {
   "name": "python"
  },
  "orig_nbformat": 4
 },
 "nbformat": 4,
 "nbformat_minor": 2
}
