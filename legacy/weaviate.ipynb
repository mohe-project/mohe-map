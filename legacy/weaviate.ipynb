{
 "cells": [
  {
   "cell_type": "code",
   "execution_count": null,
   "metadata": {},
   "outputs": [],
   "source": [
    "%pip install -q weaviate-client"
   ]
  },
  {
   "cell_type": "code",
   "execution_count": null,
   "metadata": {},
   "outputs": [],
   "source": [
    "import weaviate\n",
    "\n",
    "auth_config = weaviate.AuthApiKey(api_key=\"Dkv0MfIz4hytHTCYW58blLR0xT9uuj1yCvLx\")\n",
    "\n",
    "client = weaviate.Client(\n",
    "  url=\"https://weaviate-metadata-iavb5x12.weaviate.network\",  # URL of your Weaviate instance\n",
    "  auth_client_secret=auth_config,  # (Optional) If the Weaviate instance requires authentication\n",
    "  timeout_config=(5, 15),  # (Optional) Set connection timeout & read timeout time in seconds\n",
    ")"
   ]
  },
  {
   "cell_type": "code",
   "execution_count": null,
   "metadata": {},
   "outputs": [],
   "source": [
    "# To delete an entire class\n",
    "# client.schema.delete_class(\"Product\")\n",
    "# client.schema.delete_class(\"Place\")"
   ]
  },
  {
   "cell_type": "code",
   "execution_count": null,
   "metadata": {},
   "outputs": [],
   "source": [
    "# Create Schema\n",
    "schema = {\n",
    "  \"classes\": [{\n",
    "    \"class\": \"Product\",\n",
    "    \"properties\": [\n",
    "      {\n",
    "        \"name\": \"name\",\n",
    "        \"dataType\": [\"text\"],\n",
    "      },\n",
    "      {\n",
    "        \"name\": \"price\",\n",
    "        \"dataType\": [\"number\"],\n",
    "      },\n",
    "      {\n",
    "        \"name\": \"description\",\n",
    "        \"dataType\": [\"text\"],\n",
    "      },\n",
    "    ],\n",
    "    \"vectorizer\": \"none\",\n",
    "  },\n",
    "  {\n",
    "    \"class\": \"Place\",\n",
    "    \"properties\": [\n",
    "      {\n",
    "        \"name\": \"name\",\n",
    "        \"dataType\": [\"text\"],\n",
    "      },\n",
    "      {\n",
    "        \"name\": \"since\",\n",
    "        \"dataType\": [\"date\"],\n",
    "      },\n",
    "      {\n",
    "        \"name\": \"description\",\n",
    "        \"dataType\": [\"text\"],\n",
    "      },\n",
    "      {\n",
    "        \"name\": \"address\",\n",
    "        \"dataType\": [\"text\"],\n",
    "      },\n",
    "      {\n",
    "        \"name\": \"location\",\n",
    "        \"dataType\": [\"geoCoordinates\"],\n",
    "      },\n",
    "      {\n",
    "        \"name\": \"rating\",\n",
    "        \"dataType\": [\"number\"],\n",
    "      },\n",
    "      {\n",
    "        \"name\": \"phone\",\n",
    "        \"dataType\": [\"phoneNumber\"],\n",
    "      },\n",
    "      {\n",
    "        \"name\": \"url\",\n",
    "        \"dataType\": [\"text\"],\n",
    "      },\n",
    "      {\n",
    "        \"name\": \"products\",\n",
    "        \"dataType\": [\"Product\"],\n",
    "      },\n",
    "    ],\n",
    "    \"vectorizer\": \"none\",\n",
    "  }]\n",
    "}\n",
    "\n",
    "client.schema.create(schema)"
   ]
  },
  {
   "cell_type": "code",
   "execution_count": null,
   "metadata": {},
   "outputs": [],
   "source": [
    "client.schema.get()"
   ]
  },
  {
   "cell_type": "code",
   "execution_count": null,
   "metadata": {},
   "outputs": [],
   "source": [
    "# To insert data\n",
    "properties = {\n",
    "    \"name\": image_url,\n",
    "    \"price\": generate_random_price()\n",
    "}\n",
    "\n",
    "client.data_object.create(\n",
    "    data_object = properties, # data you want to insert\n",
    "    class_name = \"Product\", # class name\n",
    "    vector = # add vector\n",
    ")"
   ]
  },
  {
   "cell_type": "code",
   "execution_count": null,
   "metadata": {},
   "outputs": [],
   "source": [
    "# Query\n",
    "query = \"coconut\"\n",
    "\n",
    "query_tokens = tokenizer([query])\n",
    "_, query_features, _ = lit_model.apply(lit_variables, tokens=query_tokens)\n",
    "# print(query_features.tolist()[0])\n",
    "\n",
    "response = (\n",
    "    client.query\n",
    "    .get(\"Product\", [\"name\", \"price\"])\n",
    "    .with_near_vector({\n",
    "        \"vector\": query_features.tolist()[0]\n",
    "    })\n",
    "    .with_where({\n",
    "        \"path\": [\"price\"],\n",
    "        \"operator\": \"LessThanEqual\",\n",
    "        \"valueNumber\": 500000\n",
    "    })\n",
    "    .with_additional(\"certainty\")\n",
    "    # .with_limit(5)\n",
    "    .do()\n",
    ")\n",
    "\n",
    "pprint(response)"
   ]
  },
  {
   "cell_type": "code",
   "execution_count": null,
   "metadata": {},
   "outputs": [],
   "source": [
    "# Print Objects\n",
    "import json\n",
    "from pprint import pprint\n",
    "\n",
    "objects = client.data_object.get()\n",
    "\n",
    "for i, item in enumerate(objects[\"objects\"]):\n",
    "  if i < 1:\n",
    "    print(item[\"properties\"])"
   ]
  },
  {
   "cell_type": "code",
   "execution_count": null,
   "metadata": {},
   "outputs": [],
   "source": [
    "# # Deleate all objects\n",
    "# objects = client.data_object.get()\n",
    "\n",
    "# # Extract the IDs of all objects\n",
    "# object_ids = [obj['id'] for obj in objects]\n",
    "\n",
    "# # Delete all objects using the batch.delete method\n",
    "# client.batch.delete(ids=object_ids)"
   ]
  }
 ],
 "metadata": {
  "language_info": {
   "name": "python"
  },
  "orig_nbformat": 4
 },
 "nbformat": 4,
 "nbformat_minor": 2
}
