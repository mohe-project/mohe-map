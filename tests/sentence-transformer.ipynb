{
 "cells": [
  {
   "cell_type": "code",
   "execution_count": null,
   "metadata": {},
   "outputs": [],
   "source": [
    "%pip install -U sentence-transformers"
   ]
  },
  {
   "cell_type": "code",
   "execution_count": null,
   "metadata": {},
   "outputs": [],
   "source": [
    "from sentence_transformers import SentenceTransformer\n",
    "import pinecone"
   ]
  },
  {
   "cell_type": "code",
   "execution_count": null,
   "metadata": {},
   "outputs": [],
   "source": [
    "model = SentenceTransformer('sentence-transformers/all-roberta-large-v1')"
   ]
  },
  {
   "cell_type": "code",
   "execution_count": null,
   "metadata": {},
   "outputs": [],
   "source": [
    "descriptions = [\n",
    "    {\"name\": \"Bubble Tea\", \"description\": \"bubble tea, tea, milk, sweeteners, tapioca balls, boba, jelly, fruit, pudding, cold, customizable, flavors, sweetness\"},\n",
    "    {\"name\": \"Coconut Coffee\", \"description\": \"Coconut coffee is a delicious and refreshing beverage made by adding coconut milk or coconut flavoring to coffee. The combination of the rich, smooth coffee and the sweet, creamy coconut creates a unique and satisfying flavor. This beverage can be enjoyed hot or cold and is a popular choice for those who love tropical flavors.\"},\n",
    "    {\"name\": \"Laksa\", \"description\": \"Laksa is a spicy noodle soup that is popular in the Southeast Asian countries of Malaysia, Singapore, and Indonesia. It typically consists of rice noodles in a spicy and fragrant broth made from a blend of spices, coconut milk, and seafood or chicken. Laksa is often served with a variety of toppings such as shrimp, fish cakes, bean sprouts, and cilantro.\"},\n",
    "    {\"name\": \"BBQ\", \"description\": \"BBQ, short for barbeque, is a cooking method in which meat and other foods are cooked over an open flame or hot coals. It is a popular method of cooking in many cultures around the world and is often associated with outdoor gatherings and social events. BBQ dishes can vary widely depending on the region and type of meat used, but they are generally characterized by their smoky and flavorful taste.\"},\n",
    "    {\"name\": \"Fried Rice\", \"description\": \"Fried rice is a popular dish in many Asian cuisines, typically made with cooked rice that is stir-fried in a wok or skillet along with vegetables, eggs, and a variety of other ingredients such as meats, seafood, and spices. The dish is often seasoned with soy sauce, oyster sauce, or other sauces to give it a savory and umami flavor. Fried rice can be served as a main dish or as a side dish to accompany other dishes.\"},\n",
    "    {\"name\": \"Bun Bo Nam Bo\", \"description\": \"Bun bo nam bo is a popular Vietnamese dish that originated in the city of Hanoi. It consists of rice vermicelli noodles served with marinated beef, fresh herbs, peanuts, and a tangy dressing made from fish sauce, lime juice, and sugar. The dish is known for its refreshing and flavorful taste and is often enjoyed as a light and healthy meal.\"},\n",
    "    {\"name\": \"Hamburger\", \"description\": \"A hamburger is a classic American food that consists of a grilled or fried beef patty served on a bun with various toppings such as lettuce, tomato, cheese, pickles, and condiments like ketchup and mustard. It is a popular fast food item and can be found in many restaurants and diners around the world. The hamburger is known for its delicious and satisfying taste and is a favorite among many people.\"},\n",
    "    {\"name\": \"Gobchang\", \"description\": \"Gobchang is a Korean dish made from grilled or stir-fried beef or pork intestines that are seasoned with spices and served with vegetables. The dish is known for its chewy texture and rich, savory flavor. Gobchang is a popular street food in Korea and is often enjoyed with a cold beer or soju.\"},\n",
    "    {\"name\": \"Nem\", \"description\": \"Nem, also known as Vietnamese spring rolls, are a popular Vietnamese dish made from rice paper wrappers that are filled with a variety of ingredients such as pork, shrimp, vegetables, and vermicelli noodles. The rolls are typically served fresh or fried and are accompanied by a dipping sauce made from fish sauce, sugar, lime juice, and chili. Nem is known for its fresh and light taste and is a favorite among many people.\"},\n",
    "    {\"name\": \"Tteok-bokki\", \"description\": \"Tteok-bokki is a popular Korean street food made from chewy rice cakes that are cooked in a spicy and sweet chili sauce. The dish is often served with fish cakes, boiled eggs, and scallions, and can be customized with other ingredients such as seafood or cheese. Tteok-bokki is known for its bold and addictive flavor and is a favorite among many Koreans.\"},\n",
    "    {\"name\": \"Sushi\", \"description\": \"Sushi is a Japanese dish that typically consists of vinegared rice combined with various ingredients such as raw fish, vegetables, or egg. It is often served with soy sauce, wasabi, and pickled ginger. Sushi is known for its artful presentation, delicate flavors, and health benefits.\"},\n",
    "    {\"name\": \"Udon\", \"description\": \"Udon is a type of thick Japanese noodle made from wheat flour. It is typically served in a hot soup broth, often flavored with soy sauce and mirin, and accompanied by various toppings such as sliced meat, seafood, vegetables, and tempura. Udon is a popular comfort food in Japan and is enjoyed for its hearty and satisfying taste.\"},\n",
    "    {\"name\": \"Peach\", \"description\": \"A peach is a round fruit with a fuzzy, velvety skin that is typically orange-yellow in color. The flesh of the peach is soft and juicy, with a sweet and slightly tart flavor. Peaches are often eaten as a snack, used in desserts, or added to salads and other dishes for their sweet and fruity taste.\"},\n",
    "    {\"name\": \"Curry\", \"description\": \"Curry is a dish that originated in South Asia and is now popular throughout the world. It typically consists of a spiced sauce or gravy that is served with meat, vegetables, or both, along with rice or bread. The ingredients used in curry can vary widely depending on the regional cuisine, but it is known for its bold and complex flavor profile.\"},\n",
    "]\n",
    "\n",
    "for item in descriptions:\n",
    "  description = item[\"description\"]\n",
    "  embedding = model.encode(description)\n",
    "  # print(embeddings.tolist())\n",
    "\n",
    "  index.upsert(\n",
    "          namespace='descriptions',\n",
    "          vectors=[(item[\"name\"], embedding.tolist(), {\"description\":item[\"description\"]})]\n",
    "        )"
   ]
  },
  {
   "cell_type": "code",
   "execution_count": null,
   "metadata": {},
   "outputs": [],
   "source": [
    "# Function that returns the top k results from similarity search (using Pinecone's cosine similarity)\n",
    "def search(query):\n",
    "  embedding = model.encode(query)\n",
    "  \n",
    "  results = index.query(\n",
    "      namespace=\"descriptions\",\n",
    "      top_k=3,\n",
    "      include_metadata=False,\n",
    "      vector=embedding.tolist(),\n",
    "  )\n",
    "\n",
    "  return results"
   ]
  },
  {
   "cell_type": "code",
   "execution_count": null,
   "metadata": {},
   "outputs": [],
   "source": [
    "# Top-k retrieval from prompt description\n",
    "prompt = \"milk\"\n",
    "top_k_results = search(prompt)\n",
    "\n",
    "for match in top_k_results['matches']:\n",
    "    id = match['id']\n",
    "    score = match['score']\n",
    "    print(f\"{id}: {score}\")"
   ]
  }
 ],
 "metadata": {
  "language_info": {
   "name": "python"
  },
  "orig_nbformat": 4
 },
 "nbformat": 4,
 "nbformat_minor": 2
}
