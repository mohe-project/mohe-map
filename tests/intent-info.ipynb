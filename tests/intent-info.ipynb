{
 "cells": [
  {
   "attachments": {},
   "cell_type": "markdown",
   "metadata": {},
   "source": [
    "# Intent Classifier + Information Extractor"
   ]
  },
  {
   "cell_type": "code",
   "execution_count": null,
   "metadata": {},
   "outputs": [],
   "source": [
    "%pip install -q openai"
   ]
  },
  {
   "cell_type": "code",
   "execution_count": null,
   "metadata": {},
   "outputs": [],
   "source": [
    "# Intent Classifier\n",
    "def intent_classifier(message):\n",
    "  prompt = [{\"role\": \"system\", \"content\":\"You are an intent classifier for dialogue utterances. Your goal is to classify what the user is trying to say or ask.\"}]\n",
    "\n",
    "  try:\n",
    "    prompt.append(\n",
    "        {\"role\": \"user\", \"content\":\n",
    "          f\"\"\"Classify the intent of this message: '{message}'.\\n\\n\n",
    "          Print out the output in a format that is the same as the following examples:\\n\n",
    "          - The user intends to say that he is currently on a motorbike.\\n\n",
    "          - The user intends to say that she wants to drink apple juice.\\n\n",
    "          - The user intends to say that they are looking for a 5-room hotel.\\n\n",
    "          - The user intends to ask whether the cafe has air-conditioning on the second floor.\\n\n",
    "          - The user intends to ask for a recommendation for Singaporean restaurants that are nearby.\\n\n",
    "          - The user intends to ask if the place is eco-friendly.\\n\n",
    "          \"\"\"\n",
    "          }\n",
    "    )\n",
    "    response = openai.ChatCompletion.create(\n",
    "        model='gpt-3.5-turbo',\n",
    "        messages=prompt,\n",
    "        temperature=0.5,\n",
    "        max_tokens=500\n",
    "    )\n",
    "    reply = response.choices[0].message.content\n",
    "    return reply\n",
    "\n",
    "  except Exception as e:\n",
    "      print('Error: ', e)"
   ]
  },
  {
   "cell_type": "code",
   "execution_count": null,
   "metadata": {},
   "outputs": [],
   "source": [
    "# Information Extractor\n",
    "def information_extractor(message):\n",
    "  prompt = [{\"role\": \"system\", \"content\":\"You are an information extractor for dialogue utterances. Your goal is to extract important details of the information provided through the user's message.\"}]\n",
    "\n",
    "  try:\n",
    "    prompt.append(\n",
    "        {\"role\": \"user\", \"content\":\n",
    "          f\"\"\"Extract the important details of the information provided through this message: '{message}'.\\n\\n\n",
    "\n",
    "          Print out the output in a format that is similar to the following examples:\\n\n",
    "          - Currency: Vietnamese Dong (VND)\\n\n",
    "          - Amount: 50,000 VND\\n\n",
    "          - Payment method: Cash\\n\n",
    "          - Type of location: Restaurant\\n\n",
    "          - Address: 285 Nguyen Hoang Ton\\n\n",
    "          - Mood: Happy\\n\n",
    "          - Distance: 5km\\n\n",
    "          - Duration: 5 mins\\n\n",
    "          - Message type: Question\n",
    "          \"\"\"\n",
    "          }\n",
    "    )\n",
    "    response = openai.ChatCompletion.create(\n",
    "        model='gpt-3.5-turbo',\n",
    "        messages=prompt,\n",
    "        temperature=0.5,\n",
    "        max_tokens=500,\n",
    "    )\n",
    "    reply = response.choices[0].message.content\n",
    "    return reply\n",
    "\n",
    "  except Exception as e:\n",
    "      print('Error: ', e)"
   ]
  }
 ],
 "metadata": {
  "language_info": {
   "name": "python"
  },
  "orig_nbformat": 4
 },
 "nbformat": 4,
 "nbformat_minor": 2
}
