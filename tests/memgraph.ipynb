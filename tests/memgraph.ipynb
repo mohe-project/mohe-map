{
 "cells": [
  {
   "attachments": {},
   "cell_type": "markdown",
   "metadata": {},
   "source": [
    "# Memgraph\n",
    "- Install prerequisite: https://memgraph.github.io/pymgclient/introduction.html#build-prerequisites\n",
    "- Collaborative Filtering: https://memgraph.com/docs/memgraph/next/tutorials/movie-recommendation\n",
    "- Jupyter Notebook Examples:\n",
    "    - https://github.com/memgraph/jupyter-memgraph-tutorials\n",
    "    - https://github.com/memgraph/jupyter-memgraph-tutorials/blob/main/gqlalchemy-workshop/workshop/gqlalchemy-workshop.ipynb\n",
    "    - https://github.com/memgraph/jupyter-memgraph-tutorials/blob/main/getting_started/getting_started.ipynb\n",
    "- Variables: https://stackoverflow.com/questions/74304920/how-to-insert-python-variables-inside-query-in-memgrpah"
   ]
  },
  {
   "cell_type": "code",
   "execution_count": null,
   "metadata": {},
   "outputs": [],
   "source": [
    "%sudo apt install python3-dev cmake make gcc g++ libssl-dev --yes"
   ]
  },
  {
   "cell_type": "code",
   "execution_count": null,
   "metadata": {},
   "outputs": [],
   "source": [
    "%pip install -q gqlalchemy[all]"
   ]
  },
  {
   "cell_type": "code",
   "execution_count": null,
   "metadata": {},
   "outputs": [],
   "source": [
    "from gqlalchemy import Memgraph"
   ]
  },
  {
   "cell_type": "code",
   "execution_count": null,
   "metadata": {},
   "outputs": [],
   "source": [
    "host = '3.122.177.195'\n",
    "port =  7687\n",
    "username = 'heedongcho.xyz@gmail.com'\n",
    "password = 'pray4COMPANY!'\n",
    "\n",
    "memgraph = Memgraph(host, port, username, password, encrypted=True)"
   ]
  },
  {
   "cell_type": "code",
   "execution_count": null,
   "metadata": {},
   "outputs": [],
   "source": [
    "# Process single quotation in string\n",
    "def processString(string):\n",
    "    processed_string = \"\"\n",
    "    for char in string:\n",
    "        if char == \"'\":\n",
    "            processed_string += \"/'\"\n",
    "        else:\n",
    "            processed_string += char\n",
    "    return processed_string"
   ]
  },
  {
   "cell_type": "code",
   "execution_count": null,
   "metadata": {},
   "outputs": [],
   "source": [
    "# Constructor for Place\n",
    "def createPlace(name, total_score, address, phone, latitude, longitude, url, reviews_count):\n",
    "    processed_name = processString(name)\n",
    "    \n",
    "    query = f\"\"\"\n",
    "    Create (n:Place {{name: '{processed_name}', total_score: '{total_score}', address: '{address}', phone: '{phone}', latitude: {latitude}, longitude: {longitude}, url: '{url}', reviews_count: {reviews_count}}});\n",
    "    \"\"\"\n",
    "    memgraph.execute(query)\n",
    "\n",
    "# Constructor for Product\n",
    "def createProduct(name='', description='', images=[]):\n",
    "    processed_name = processString(name)\n",
    "    \n",
    "    query = f\"\"\"\n",
    "    Create (n:Place {{name: '{processed_name}', description: '{description}', images: {images[0]}}});\n",
    "    \"\"\"\n",
    "    memgraph.execute(query)"
   ]
  },
  {
   "cell_type": "code",
   "execution_count": null,
   "metadata": {},
   "outputs": [],
   "source": [
    "# Creates nodes and relationships\n",
    "name = \"\"\n",
    "image_url = \"\"\n",
    "\n",
    "query = f\"\"\"\n",
    "MATCH (pl:Place), (pr:Product)\n",
    "WHERE pl.name = '{name}' AND pr.images[0] = '{image_url}'\n",
    "Create (pl)-[r:hasProduct]->(pr);\n",
    "\"\"\"\n",
    "memgraph.execute(query)"
   ]
  },
  {
   "cell_type": "code",
   "execution_count": null,
   "metadata": {},
   "outputs": [],
   "source": [
    "# Query nodes\n",
    "query = \"\"\"\n",
    "Match(n:Product)\n",
    "Return n;\n",
    "\"\"\"\n",
    "results = memgraph.execute_and_fetch(query)\n",
    "\n",
    "for result in results:\n",
    "    n = list(result['n'])\n",
    "    print(n[3][1][0])"
   ]
  },
  {
   "cell_type": "code",
   "execution_count": null,
   "metadata": {},
   "outputs": [],
   "source": [
    "# Update node"
   ]
  },
  {
   "cell_type": "code",
   "execution_count": null,
   "metadata": {},
   "outputs": [],
   "source": [
    "# Delete node"
   ]
  },
  {
   "cell_type": "code",
   "execution_count": null,
   "metadata": {},
   "outputs": [],
   "source": [
    "# Delete all nodes and relationships\n",
    "query = \"MATCH (n) DETACH DELETE n\"\n",
    "memgraph.execute(query)"
   ]
  }
 ],
 "metadata": {
  "language_info": {
   "name": "python"
  },
  "orig_nbformat": 4
 },
 "nbformat": 4,
 "nbformat_minor": 2
}
